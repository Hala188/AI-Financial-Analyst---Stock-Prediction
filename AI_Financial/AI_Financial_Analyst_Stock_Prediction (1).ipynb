{
 "cells": [
  {
   "cell_type": "markdown",
   "metadata": {
    "id": "xx6CYl__MNpQ"
   },
   "source": [
    "# 📊 AI Financial Analyst - Predicting Stock Market Prices 📈\n",
    "\n",
    "Welcome, AI Financial Analysts! Your mission is to **predict stock market closing prices** based on historical financial data.\n",
    "\n",
    "You will use **Decision Trees, Random Forests, and XGBoost** to analyze stock trends and make predictions.\n",
    "\n",
    "**Let's get started! 🚀**\n"
   ]
  },
  {
   "cell_type": "code",
   "execution_count": null,
   "metadata": {
    "colab": {
     "base_uri": "https://localhost:8080/"
    },
    "id": "jA8B2sq7MNpS",
    "outputId": "0c95fc3b-f0b2-494f-c74f-a15d6c418a54"
   },
   "outputs": [],
   "source": [
    "# 📌 Step 1: Import necessary libraries\n",
    "import pandas as pd\n",
    "import numpy as np\n",
    "import matplotlib.pyplot as plt\n",
    "import seaborn as sns\n",
    "from sklearn.model_selection import train_test_split\n",
    "from sklearn.tree import DecisionTreeRegressor\n",
    "from sklearn.ensemble import RandomForestRegressor, VotingRegressor\n",
    "from sklearn.preprocessing import StandardScaler\n",
    "from sklearn.metrics import mean_absolute_error, mean_squared_error, r2_score\n",
    "from sklearn.model_selection import GridSearchCV\n",
    "from xgboost import XGBRegressor\n",
    "print('Libraries imported successfully! ✅')"
   ]
  },
  {
   "cell_type": "markdown",
   "metadata": {
    "id": "X2FrfoGqMNpT"
   },
   "source": [
    "## 📂 Step 2: Load the Stock Market Dataset\n",
    "Let's load the dataset and inspect the first few rows."
   ]
  },
  {
   "cell_type": "code",
   "execution_count": 5,
   "metadata": {
    "colab": {
     "base_uri": "https://localhost:8080/",
     "height": 206
    },
    "id": "v_QmHBxiMNpT",
    "outputId": "2beb66eb-6b4e-4884-c6cb-7ac9569fc023"
   },
   "outputs": [
    {
     "data": {
      "application/vnd.google.colaboratory.intrinsic+json": {
       "summary": "{\n  \"name\": \"df\",\n  \"rows\": 1000,\n  \"fields\": [\n    {\n      \"column\": \"Opening Price\",\n      \"properties\": {\n        \"dtype\": \"number\",\n        \"std\": 131.46164584853906,\n        \"min\": 52.08,\n        \"max\": 499.87,\n        \"num_unique_values\": 993,\n        \"samples\": [\n          60.11,\n          173.03,\n          206.71\n        ],\n        \"semantic_type\": \"\",\n        \"description\": \"\"\n      }\n    },\n    {\n      \"column\": \"Closing Price\",\n      \"properties\": {\n        \"dtype\": \"number\",\n        \"std\": 131.76239233021894,\n        \"min\": 43.31999999999999,\n        \"max\": 502.81,\n        \"num_unique_values\": 982,\n        \"samples\": [\n          202.37,\n          454.8,\n          121.11\n        ],\n        \"semantic_type\": \"\",\n        \"description\": \"\"\n      }\n    },\n    {\n      \"column\": \"High Price\",\n      \"properties\": {\n        \"dtype\": \"number\",\n        \"std\": 131.5536741237071,\n        \"min\": 53.28,\n        \"max\": 506.42,\n        \"num_unique_values\": 991,\n        \"samples\": [\n          156.9,\n          61.41,\n          192.15\n        ],\n        \"semantic_type\": \"\",\n        \"description\": \"\"\n      }\n    },\n    {\n      \"column\": \"Low Price\",\n      \"properties\": {\n        \"dtype\": \"number\",\n        \"std\": 131.5398868254536,\n        \"min\": 42.85,\n        \"max\": 496.87,\n        \"num_unique_values\": 989,\n        \"samples\": [\n          366.85,\n          49.53,\n          352.37\n        ],\n        \"semantic_type\": \"\",\n        \"description\": \"\"\n      }\n    },\n    {\n      \"column\": \"Volume\",\n      \"properties\": {\n        \"dtype\": \"number\",\n        \"std\": 1397462,\n        \"min\": 117297,\n        \"max\": 4989084,\n        \"num_unique_values\": 1000,\n        \"samples\": [\n          1805243,\n          3952256,\n          1518412\n        ],\n        \"semantic_type\": \"\",\n        \"description\": \"\"\n      }\n    },\n    {\n      \"column\": \"Market Sentiment\",\n      \"properties\": {\n        \"dtype\": \"number\",\n        \"std\": 0.5776661084074618,\n        \"min\": -0.998504583258938,\n        \"max\": 0.99809899620729,\n        \"num_unique_values\": 1000,\n        \"samples\": [\n          -0.1897838908242866,\n          -0.4318832219191419,\n          -0.1185219178314729\n        ],\n        \"semantic_type\": \"\",\n        \"description\": \"\"\n      }\n    },\n    {\n      \"column\": \"Day\",\n      \"properties\": {\n        \"dtype\": \"number\",\n        \"std\": 8,\n        \"min\": 1,\n        \"max\": 31,\n        \"num_unique_values\": 31,\n        \"samples\": [\n          28,\n          16,\n          24\n        ],\n        \"semantic_type\": \"\",\n        \"description\": \"\"\n      }\n    },\n    {\n      \"column\": \"Month\",\n      \"properties\": {\n        \"dtype\": \"number\",\n        \"std\": 3,\n        \"min\": 1,\n        \"max\": 12,\n        \"num_unique_values\": 12,\n        \"samples\": [\n          11,\n          10,\n          1\n        ],\n        \"semantic_type\": \"\",\n        \"description\": \"\"\n      }\n    },\n    {\n      \"column\": \"Year\",\n      \"properties\": {\n        \"dtype\": \"number\",\n        \"std\": 0,\n        \"min\": 2023,\n        \"max\": 2025,\n        \"num_unique_values\": 3,\n        \"samples\": [\n          2023,\n          2024,\n          2025\n        ],\n        \"semantic_type\": \"\",\n        \"description\": \"\"\n      }\n    },\n    {\n      \"column\": \"Weekday\",\n      \"properties\": {\n        \"dtype\": \"number\",\n        \"std\": 2,\n        \"min\": 0,\n        \"max\": 6,\n        \"num_unique_values\": 7,\n        \"samples\": [\n          6,\n          0,\n          4\n        ],\n        \"semantic_type\": \"\",\n        \"description\": \"\"\n      }\n    }\n  ]\n}",
       "type": "dataframe",
       "variable_name": "df"
      },
      "text/html": [
       "\n",
       "  <div id=\"df-99ce1359-fad3-4953-87ff-7ba051864abb\" class=\"colab-df-container\">\n",
       "    <div>\n",
       "<style scoped>\n",
       "    .dataframe tbody tr th:only-of-type {\n",
       "        vertical-align: middle;\n",
       "    }\n",
       "\n",
       "    .dataframe tbody tr th {\n",
       "        vertical-align: top;\n",
       "    }\n",
       "\n",
       "    .dataframe thead th {\n",
       "        text-align: right;\n",
       "    }\n",
       "</style>\n",
       "<table border=\"1\" class=\"dataframe\">\n",
       "  <thead>\n",
       "    <tr style=\"text-align: right;\">\n",
       "      <th></th>\n",
       "      <th>Opening Price</th>\n",
       "      <th>Closing Price</th>\n",
       "      <th>High Price</th>\n",
       "      <th>Low Price</th>\n",
       "      <th>Volume</th>\n",
       "      <th>Market Sentiment</th>\n",
       "      <th>Day</th>\n",
       "      <th>Month</th>\n",
       "      <th>Year</th>\n",
       "      <th>Weekday</th>\n",
       "    </tr>\n",
       "  </thead>\n",
       "  <tbody>\n",
       "    <tr>\n",
       "      <th>0</th>\n",
       "      <td>218.54</td>\n",
       "      <td>212.24</td>\n",
       "      <td>219.54</td>\n",
       "      <td>210.87</td>\n",
       "      <td>1514022</td>\n",
       "      <td>0.163128</td>\n",
       "      <td>1</td>\n",
       "      <td>1</td>\n",
       "      <td>2023</td>\n",
       "      <td>6</td>\n",
       "    </tr>\n",
       "    <tr>\n",
       "      <th>1</th>\n",
       "      <td>477.82</td>\n",
       "      <td>478.66</td>\n",
       "      <td>479.68</td>\n",
       "      <td>473.31</td>\n",
       "      <td>3901250</td>\n",
       "      <td>0.429391</td>\n",
       "      <td>2</td>\n",
       "      <td>1</td>\n",
       "      <td>2023</td>\n",
       "      <td>0</td>\n",
       "    </tr>\n",
       "    <tr>\n",
       "      <th>2</th>\n",
       "      <td>379.40</td>\n",
       "      <td>386.86</td>\n",
       "      <td>386.91</td>\n",
       "      <td>378.32</td>\n",
       "      <td>1052246</td>\n",
       "      <td>-0.519561</td>\n",
       "      <td>3</td>\n",
       "      <td>1</td>\n",
       "      <td>2023</td>\n",
       "      <td>1</td>\n",
       "    </tr>\n",
       "    <tr>\n",
       "      <th>3</th>\n",
       "      <td>319.40</td>\n",
       "      <td>324.04</td>\n",
       "      <td>326.23</td>\n",
       "      <td>314.98</td>\n",
       "      <td>119675</td>\n",
       "      <td>-0.112457</td>\n",
       "      <td>4</td>\n",
       "      <td>1</td>\n",
       "      <td>2023</td>\n",
       "      <td>2</td>\n",
       "    </tr>\n",
       "    <tr>\n",
       "      <th>4</th>\n",
       "      <td>120.21</td>\n",
       "      <td>126.34</td>\n",
       "      <td>130.75</td>\n",
       "      <td>117.41</td>\n",
       "      <td>173997</td>\n",
       "      <td>-0.435264</td>\n",
       "      <td>5</td>\n",
       "      <td>1</td>\n",
       "      <td>2023</td>\n",
       "      <td>3</td>\n",
       "    </tr>\n",
       "  </tbody>\n",
       "</table>\n",
       "</div>\n",
       "    <div class=\"colab-df-buttons\">\n",
       "\n",
       "  <div class=\"colab-df-container\">\n",
       "    <button class=\"colab-df-convert\" onclick=\"convertToInteractive('df-99ce1359-fad3-4953-87ff-7ba051864abb')\"\n",
       "            title=\"Convert this dataframe to an interactive table.\"\n",
       "            style=\"display:none;\">\n",
       "\n",
       "  <svg xmlns=\"http://www.w3.org/2000/svg\" height=\"24px\" viewBox=\"0 -960 960 960\">\n",
       "    <path d=\"M120-120v-720h720v720H120Zm60-500h600v-160H180v160Zm220 220h160v-160H400v160Zm0 220h160v-160H400v160ZM180-400h160v-160H180v160Zm440 0h160v-160H620v160ZM180-180h160v-160H180v160Zm440 0h160v-160H620v160Z\"/>\n",
       "  </svg>\n",
       "    </button>\n",
       "\n",
       "  <style>\n",
       "    .colab-df-container {\n",
       "      display:flex;\n",
       "      gap: 12px;\n",
       "    }\n",
       "\n",
       "    .colab-df-convert {\n",
       "      background-color: #E8F0FE;\n",
       "      border: none;\n",
       "      border-radius: 50%;\n",
       "      cursor: pointer;\n",
       "      display: none;\n",
       "      fill: #1967D2;\n",
       "      height: 32px;\n",
       "      padding: 0 0 0 0;\n",
       "      width: 32px;\n",
       "    }\n",
       "\n",
       "    .colab-df-convert:hover {\n",
       "      background-color: #E2EBFA;\n",
       "      box-shadow: 0px 1px 2px rgba(60, 64, 67, 0.3), 0px 1px 3px 1px rgba(60, 64, 67, 0.15);\n",
       "      fill: #174EA6;\n",
       "    }\n",
       "\n",
       "    .colab-df-buttons div {\n",
       "      margin-bottom: 4px;\n",
       "    }\n",
       "\n",
       "    [theme=dark] .colab-df-convert {\n",
       "      background-color: #3B4455;\n",
       "      fill: #D2E3FC;\n",
       "    }\n",
       "\n",
       "    [theme=dark] .colab-df-convert:hover {\n",
       "      background-color: #434B5C;\n",
       "      box-shadow: 0px 1px 3px 1px rgba(0, 0, 0, 0.15);\n",
       "      filter: drop-shadow(0px 1px 2px rgba(0, 0, 0, 0.3));\n",
       "      fill: #FFFFFF;\n",
       "    }\n",
       "  </style>\n",
       "\n",
       "    <script>\n",
       "      const buttonEl =\n",
       "        document.querySelector('#df-99ce1359-fad3-4953-87ff-7ba051864abb button.colab-df-convert');\n",
       "      buttonEl.style.display =\n",
       "        google.colab.kernel.accessAllowed ? 'block' : 'none';\n",
       "\n",
       "      async function convertToInteractive(key) {\n",
       "        const element = document.querySelector('#df-99ce1359-fad3-4953-87ff-7ba051864abb');\n",
       "        const dataTable =\n",
       "          await google.colab.kernel.invokeFunction('convertToInteractive',\n",
       "                                                    [key], {});\n",
       "        if (!dataTable) return;\n",
       "\n",
       "        const docLinkHtml = 'Like what you see? Visit the ' +\n",
       "          '<a target=\"_blank\" href=https://colab.research.google.com/notebooks/data_table.ipynb>data table notebook</a>'\n",
       "          + ' to learn more about interactive tables.';\n",
       "        element.innerHTML = '';\n",
       "        dataTable['output_type'] = 'display_data';\n",
       "        await google.colab.output.renderOutput(dataTable, element);\n",
       "        const docLink = document.createElement('div');\n",
       "        docLink.innerHTML = docLinkHtml;\n",
       "        element.appendChild(docLink);\n",
       "      }\n",
       "    </script>\n",
       "  </div>\n",
       "\n",
       "\n",
       "<div id=\"df-19c6cb28-ead1-4821-a90a-3ba790e3ec49\">\n",
       "  <button class=\"colab-df-quickchart\" onclick=\"quickchart('df-19c6cb28-ead1-4821-a90a-3ba790e3ec49')\"\n",
       "            title=\"Suggest charts\"\n",
       "            style=\"display:none;\">\n",
       "\n",
       "<svg xmlns=\"http://www.w3.org/2000/svg\" height=\"24px\"viewBox=\"0 0 24 24\"\n",
       "     width=\"24px\">\n",
       "    <g>\n",
       "        <path d=\"M19 3H5c-1.1 0-2 .9-2 2v14c0 1.1.9 2 2 2h14c1.1 0 2-.9 2-2V5c0-1.1-.9-2-2-2zM9 17H7v-7h2v7zm4 0h-2V7h2v10zm4 0h-2v-4h2v4z\"/>\n",
       "    </g>\n",
       "</svg>\n",
       "  </button>\n",
       "\n",
       "<style>\n",
       "  .colab-df-quickchart {\n",
       "      --bg-color: #E8F0FE;\n",
       "      --fill-color: #1967D2;\n",
       "      --hover-bg-color: #E2EBFA;\n",
       "      --hover-fill-color: #174EA6;\n",
       "      --disabled-fill-color: #AAA;\n",
       "      --disabled-bg-color: #DDD;\n",
       "  }\n",
       "\n",
       "  [theme=dark] .colab-df-quickchart {\n",
       "      --bg-color: #3B4455;\n",
       "      --fill-color: #D2E3FC;\n",
       "      --hover-bg-color: #434B5C;\n",
       "      --hover-fill-color: #FFFFFF;\n",
       "      --disabled-bg-color: #3B4455;\n",
       "      --disabled-fill-color: #666;\n",
       "  }\n",
       "\n",
       "  .colab-df-quickchart {\n",
       "    background-color: var(--bg-color);\n",
       "    border: none;\n",
       "    border-radius: 50%;\n",
       "    cursor: pointer;\n",
       "    display: none;\n",
       "    fill: var(--fill-color);\n",
       "    height: 32px;\n",
       "    padding: 0;\n",
       "    width: 32px;\n",
       "  }\n",
       "\n",
       "  .colab-df-quickchart:hover {\n",
       "    background-color: var(--hover-bg-color);\n",
       "    box-shadow: 0 1px 2px rgba(60, 64, 67, 0.3), 0 1px 3px 1px rgba(60, 64, 67, 0.15);\n",
       "    fill: var(--button-hover-fill-color);\n",
       "  }\n",
       "\n",
       "  .colab-df-quickchart-complete:disabled,\n",
       "  .colab-df-quickchart-complete:disabled:hover {\n",
       "    background-color: var(--disabled-bg-color);\n",
       "    fill: var(--disabled-fill-color);\n",
       "    box-shadow: none;\n",
       "  }\n",
       "\n",
       "  .colab-df-spinner {\n",
       "    border: 2px solid var(--fill-color);\n",
       "    border-color: transparent;\n",
       "    border-bottom-color: var(--fill-color);\n",
       "    animation:\n",
       "      spin 1s steps(1) infinite;\n",
       "  }\n",
       "\n",
       "  @keyframes spin {\n",
       "    0% {\n",
       "      border-color: transparent;\n",
       "      border-bottom-color: var(--fill-color);\n",
       "      border-left-color: var(--fill-color);\n",
       "    }\n",
       "    20% {\n",
       "      border-color: transparent;\n",
       "      border-left-color: var(--fill-color);\n",
       "      border-top-color: var(--fill-color);\n",
       "    }\n",
       "    30% {\n",
       "      border-color: transparent;\n",
       "      border-left-color: var(--fill-color);\n",
       "      border-top-color: var(--fill-color);\n",
       "      border-right-color: var(--fill-color);\n",
       "    }\n",
       "    40% {\n",
       "      border-color: transparent;\n",
       "      border-right-color: var(--fill-color);\n",
       "      border-top-color: var(--fill-color);\n",
       "    }\n",
       "    60% {\n",
       "      border-color: transparent;\n",
       "      border-right-color: var(--fill-color);\n",
       "    }\n",
       "    80% {\n",
       "      border-color: transparent;\n",
       "      border-right-color: var(--fill-color);\n",
       "      border-bottom-color: var(--fill-color);\n",
       "    }\n",
       "    90% {\n",
       "      border-color: transparent;\n",
       "      border-bottom-color: var(--fill-color);\n",
       "    }\n",
       "  }\n",
       "</style>\n",
       "\n",
       "  <script>\n",
       "    async function quickchart(key) {\n",
       "      const quickchartButtonEl =\n",
       "        document.querySelector('#' + key + ' button');\n",
       "      quickchartButtonEl.disabled = true;  // To prevent multiple clicks.\n",
       "      quickchartButtonEl.classList.add('colab-df-spinner');\n",
       "      try {\n",
       "        const charts = await google.colab.kernel.invokeFunction(\n",
       "            'suggestCharts', [key], {});\n",
       "      } catch (error) {\n",
       "        console.error('Error during call to suggestCharts:', error);\n",
       "      }\n",
       "      quickchartButtonEl.classList.remove('colab-df-spinner');\n",
       "      quickchartButtonEl.classList.add('colab-df-quickchart-complete');\n",
       "    }\n",
       "    (() => {\n",
       "      let quickchartButtonEl =\n",
       "        document.querySelector('#df-19c6cb28-ead1-4821-a90a-3ba790e3ec49 button');\n",
       "      quickchartButtonEl.style.display =\n",
       "        google.colab.kernel.accessAllowed ? 'block' : 'none';\n",
       "    })();\n",
       "  </script>\n",
       "</div>\n",
       "\n",
       "    </div>\n",
       "  </div>\n"
      ],
      "text/plain": [
       "   Opening Price  Closing Price  High Price  Low Price   Volume  \\\n",
       "0         218.54         212.24      219.54     210.87  1514022   \n",
       "1         477.82         478.66      479.68     473.31  3901250   \n",
       "2         379.40         386.86      386.91     378.32  1052246   \n",
       "3         319.40         324.04      326.23     314.98   119675   \n",
       "4         120.21         126.34      130.75     117.41   173997   \n",
       "\n",
       "   Market Sentiment  Day  Month  Year  Weekday  \n",
       "0          0.163128    1      1  2023        6  \n",
       "1          0.429391    2      1  2023        0  \n",
       "2         -0.519561    3      1  2023        1  \n",
       "3         -0.112457    4      1  2023        2  \n",
       "4         -0.435264    5      1  2023        3  "
      ]
     },
     "execution_count": 5,
     "metadata": {},
     "output_type": "execute_result"
    }
   ],
   "source": [
    "df = pd.read_csv('stock_data.csv')\n",
    "df.head()"
   ]
  },
  {
   "cell_type": "markdown",
   "metadata": {
    "id": "S1STaEhDMNpU"
   },
   "source": [
    "## 🏗 Step 3: Feature Engineering & Preprocessing\n",
    "We need to extract relevant features from the dataset and prepare it for model training."
   ]
  },
  {
   "cell_type": "code",
   "execution_count": 7,
   "metadata": {
    "colab": {
     "base_uri": "https://localhost:8080/"
    },
    "id": "VYdw7fYHMNpU",
    "outputId": "92124ce8-c8fd-4a05-82d5-52ab73011233"
   },
   "outputs": [
    {
     "name": "stdout",
     "output_type": "stream",
     "text": [
      "<class 'pandas.core.frame.DataFrame'>\n",
      "RangeIndex: 1000 entries, 0 to 999\n",
      "Data columns (total 10 columns):\n",
      " #   Column            Non-Null Count  Dtype  \n",
      "---  ------            --------------  -----  \n",
      " 0   Opening Price     1000 non-null   float64\n",
      " 1   Closing Price     1000 non-null   float64\n",
      " 2   High Price        1000 non-null   float64\n",
      " 3   Low Price         1000 non-null   float64\n",
      " 4   Volume            1000 non-null   int64  \n",
      " 5   Market Sentiment  1000 non-null   float64\n",
      " 6   Day               1000 non-null   int64  \n",
      " 7   Month             1000 non-null   int64  \n",
      " 8   Year              1000 non-null   int64  \n",
      " 9   Weekday           1000 non-null   int64  \n",
      "dtypes: float64(5), int64(5)\n",
      "memory usage: 78.3 KB\n"
     ]
    }
   ],
   "source": [
    "df.info()"
   ]
  },
  {
   "cell_type": "code",
   "execution_count": 8,
   "metadata": {
    "id": "UDNqJW0aMNpU"
   },
   "outputs": [],
   "source": [
    "# Extract numerical features from the datasetة\n",
    "features = ['Opening Price', 'Low Price', 'High Price', 'Volume','Market Sentiment','Day','Month','Year','Weekday']\n",
    "target ='Closing Price'\n",
    "\n",
    "X = df[features]\n",
    "y = df[target]\n",
    "\n",
    "# Scale numerical features\n",
    "# StandardScaler\n",
    "scaler = StandardScaler()\n",
    "X_scaled = scaler.fit_transform(X)\n",
    "\n"
   ]
  },
  {
   "cell_type": "markdown",
   "metadata": {
    "id": "pTXbQCphMNpV"
   },
   "source": [
    "## 🏗 Step 4: Train-Test Split\n",
    "We need to split the data into training and testing sets."
   ]
  },
  {
   "cell_type": "code",
   "execution_count": 9,
   "metadata": {
    "colab": {
     "base_uri": "https://localhost:8080/"
    },
    "id": "-DoDu1fkMNpV",
    "outputId": "e4641f7a-941b-45bd-cd1e-e5cdc59cc755"
   },
   "outputs": [
    {
     "name": "stdout",
     "output_type": "stream",
     "text": [
      "✅ Training set size: 800, Test set size: 200\n"
     ]
    }
   ],
   "source": [
    "X_train, X_test, y_train, y_test = train_test_split(X_scaled, y, test_size=0.2, random_state=42)\n",
    "\n",
    "print(f'✅ Training set size: {len(X_train)}, Test set size: {len(X_test)}')\n"
   ]
  },
  {
   "cell_type": "markdown",
   "metadata": {
    "id": "FQsmywyzMNpV"
   },
   "source": [
    "## 🌳 Step 5: Train a Decision Tree Regressor\n",
    "Let's train a **Decision Tree** model to predict stock prices."
   ]
  },
  {
   "cell_type": "code",
   "execution_count": 10,
   "metadata": {
    "colab": {
     "base_uri": "https://localhost:8080/"
    },
    "id": "R5De7qGiMNpW",
    "outputId": "02b66775-9d5f-4562-e387-9d50255e2af7"
   },
   "outputs": [
    {
     "name": "stdout",
     "output_type": "stream",
     "text": [
      "🌳Decision Tree RMSE:4.66\n"
     ]
    }
   ],
   "source": [
    "dtree_model = DecisionTreeRegressor(random_state=42)\n",
    "dtree_model.fit(X_train, y_train)\n",
    "\n",
    "y_pred_dtree = dtree_model.predict(X_test)\n",
    "\n",
    "# حساب RMSE\n",
    "rmse_df = np.sqrt(mean_squared_error(y_test, y_pred_dtree))\n",
    "print(f'🌳Decision Tree RMSE:{round(rmse_df,2)}')"
   ]
  },
  {
   "cell_type": "markdown",
   "metadata": {
    "id": "MpTcnCh3MNpW"
   },
   "source": [
    "## 🌲 Step 6: Train a Random Forest Regressor\n",
    "Let's improve our model using **Random Forest**."
   ]
  },
  {
   "cell_type": "code",
   "execution_count": 11,
   "metadata": {
    "colab": {
     "base_uri": "https://localhost:8080/"
    },
    "id": "cWFeDO7WMNpW",
    "outputId": "cfbd24aa-5fdf-4b39-9151-7ab4b3aa1c3d"
   },
   "outputs": [
    {
     "name": "stdout",
     "output_type": "stream",
     "text": [
      "🌲 Random Forest RMSE: 3.43\n"
     ]
    }
   ],
   "source": [
    "rf_model = RandomForestRegressor(n_estimators=100, random_state=42)\n",
    "rf_model.fit(X_train, y_train)\n",
    "\n",
    "# توقع القيم\n",
    "y_pred_rf = rf_model.predict(X_test)\n",
    "\n",
    "# حساب RMSE\n",
    "rmse_rf = np.sqrt(mean_squared_error(y_test, y_pred_rf))\n",
    "print(f'🌲 Random Forest RMSE: {round(rmse_rf,2)}')"
   ]
  },
  {
   "cell_type": "markdown",
   "metadata": {
    "id": "Q_XK3VP5MNpW"
   },
   "source": [
    "## ⚡ Step 7: Train an XGBoost Regressor\n",
    "Let's use **XGBoost** for optimized performance."
   ]
  },
  {
   "cell_type": "code",
   "execution_count": 12,
   "metadata": {
    "colab": {
     "base_uri": "https://localhost:8080/"
    },
    "id": "Mqgn5rGcMNpW",
    "outputId": "0ca12f10-ecd5-45fd-db1a-0fe36e43813c"
   },
   "outputs": [
    {
     "name": "stdout",
     "output_type": "stream",
     "text": [
      "⚡ XGBoost RMSE: 3.5\n"
     ]
    }
   ],
   "source": [
    "xgb_model = XGBRegressor(n_estimators=100, learning_rate=0.1, random_state=42)\n",
    "xgb_model.fit(X_train, y_train)\n",
    "\n",
    "# توقع القيم\n",
    "y_pred_xgb = xgb_model.predict(X_test)\n",
    "\n",
    "# حساب RMSE\n",
    "rmse_xgb = np.sqrt(mean_squared_error(y_test, y_pred_xgb))\n",
    "print(f'⚡ XGBoost RMSE: {round(rmse_xgb,2)}')"
   ]
  },
  {
   "cell_type": "markdown",
   "metadata": {
    "id": "C0d-zibJMNpX"
   },
   "source": [
    "## ⚙️ Step 8: Hyperparameter Tuning for Random Forest & XGBoost\n",
    "Now let's **optimize** our models using GridSearchCV to find the best hyperparameters."
   ]
  },
  {
   "cell_type": "code",
   "execution_count": 13,
   "metadata": {
    "colab": {
     "base_uri": "https://localhost:8080/"
    },
    "id": "mS7BjgCAMNpX",
    "outputId": "ea111ab6-11ad-4895-bcdd-1a39ffbded8a"
   },
   "outputs": [
    {
     "name": "stdout",
     "output_type": "stream",
     "text": [
      "✅ Best Random Forest Params: {'max_depth': None, 'n_estimators': 200}\n"
     ]
    }
   ],
   "source": [
    "# Hyperparameter tuning for Random Forest\n",
    "\n",
    "rf_params = {\n",
    "    'n_estimators': [100, 200, 300],\n",
    "    'max_depth': [None, 10, 20]\n",
    "}\n",
    "\n",
    "grid_rf = GridSearchCV(RandomForestRegressor(random_state=42), rf_params, cv=5, scoring='neg_mean_squared_error')\n",
    "grid_rf.fit(X_train, y_train)\n",
    "\n",
    "best_rf = grid_rf.best_estimator_\n",
    "print(f'✅ Best Random Forest Params: {grid_rf.best_params_}')\n",
    "\n",
    "\n"
   ]
  },
  {
   "cell_type": "code",
   "execution_count": 14,
   "metadata": {
    "colab": {
     "base_uri": "https://localhost:8080/"
    },
    "id": "Sw03xr3qMNpX",
    "outputId": "f5e0afcc-8111-4f4e-b17c-eaed21b0bb71"
   },
   "outputs": [
    {
     "name": "stdout",
     "output_type": "stream",
     "text": [
      "✅ Best XGBoost Params: {'learning_rate': 0.1, 'n_estimators': 100}\n"
     ]
    }
   ],
   "source": [
    "# Hyperparameter tuning for XGBoost\n",
    "\n",
    "# use GridSearch\n",
    "xgb_params = {\n",
    "    'n_estimators': [100, 200],\n",
    "    'learning_rate': [0.01, 0.1, 0.2]\n",
    "}\n",
    "\n",
    "grid_xgb = GridSearchCV(XGBRegressor(random_state=42), xgb_params, cv=5, scoring='neg_mean_squared_error')\n",
    "grid_xgb.fit(X_train, y_train)\n",
    "\n",
    "best_xgb = grid_xgb.best_estimator_\n",
    "print(f'✅ Best XGBoost Params: {grid_xgb.best_params_}')\n"
   ]
  },
  {
   "cell_type": "markdown",
   "metadata": {
    "id": "HHrZg9mKMNpX"
   },
   "source": [
    "## 🏆 Step 9: Build a Stacked Model\n",
    "Now that we have optimized our models, let's combine them into an **ensemble model**."
   ]
  },
  {
   "cell_type": "code",
   "execution_count": 18,
   "metadata": {
    "colab": {
     "base_uri": "https://localhost:8080/"
    },
    "id": "OWZQpjtVMNpX",
    "outputId": "f2101089-af8a-4d15-99c3-bf5985976280"
   },
   "outputs": [
    {
     "name": "stdout",
     "output_type": "stream",
     "text": [
      "🏆 Stacked Model RMSE: 3.33\n"
     ]
    }
   ],
   "source": [
    "# Build a stacked model using the best-tuned Regressor\n",
    "stacked_model = VotingRegressor([('rf', best_rf), ('xgb', best_xgb)])\n",
    "# Train stacked model\n",
    "stacked_model.fit(X_train, y_train)\n",
    "\n",
    "y_pred_stacked = stacked_model.predict(X_test)\n",
    "\n",
    "rmse_stacked = np.sqrt(mean_squared_error(y_test, y_pred_stacked))\n",
    "print(f'🏆 Stacked Model RMSE: {round(rmse_stacked,2)}')\n",
    "\n",
    "\n"
   ]
  },
  {
   "cell_type": "markdown",
   "metadata": {
    "id": "zBZNTF9hMNpY"
   },
   "source": [
    "## 📊 Step 10: Final Model Comparison\n",
    "Let's compare all models, including the stacked model."
   ]
  },
  {
   "cell_type": "code",
   "execution_count": 26,
   "metadata": {
    "colab": {
     "base_uri": "https://localhost:8080/",
     "height": 684
    },
    "id": "rvQb6FL_MNpY",
    "outputId": "1cb2e99a-8129-42a9-db8d-e2eae1ee9dce"
   },
   "outputs": [
    {
     "name": "stdout",
     "output_type": "stream",
     "text": [
      "           Model      RMSE\n",
      "0  Decision Tree  4.663233\n",
      "1  Random Forest  3.425224\n",
      "2       Tuned RF  3.391095\n",
      "3        XGBoost  3.498756\n",
      "4  Tuned XGBoost  3.498756\n",
      "5  Stacked Model  3.325454\n"
     ]
    },
    {
     "data": {
      "image/png": "[encoded data removed]",
      "text/plain": [
       "<Figure size 1000x500 with 1 Axes>"
      ]
     },
     "metadata": {},
     "output_type": "display_data"
    }
   ],
   "source": [
    "model_results = {\n",
    "    'Decision Tree': mean_squared_error(y_test, y_pred_dtree, squared=False),  # RMSE\n",
    "    'Random Forest': mean_squared_error(y_test, y_pred_rf, squared=False),\n",
    "    'Tuned RF': mean_squared_error(y_test, best_rf.predict(X_test), squared=False),  # ✅ استخدم التنبؤات\n",
    "    'XGBoost': mean_squared_error(y_test, y_pred_xgb, squared=False),\n",
    "    'Tuned XGBoost': mean_squared_error(y_test, best_xgb.predict(X_test), squared=False),  # ✅ استخدم التنبؤات\n",
    "    'Stacked Model': mean_squared_error(y_test, y_pred_stacked, squared=False)\n",
    "}\n",
    "\n",
    "\n",
    "results_df = pd.DataFrame(list(model_results.items()), columns=['Model', 'RMSE'])\n",
    "print(results_df)\n",
    "\n",
    "\n",
    "plt.figure(figsize=(10,5))\n",
    "plt.bar(results_df['Model'], results_df['RMSE'], color=['blue', 'green', 'red', 'orange', 'purple', 'black'])\n",
    "plt.xlabel('Models')\n",
    "plt.ylabel('RMSE Score')\n",
    "plt.title('Final Model Performance Comparison')\n",
    "plt.xticks(rotation=45)\n",
    "plt.show()\n"
   ]
  },
  {
   "cell_type": "markdown",
   "metadata": {
    "id": "hHjx8ld2MNpY"
   },
   "source": [
    "## 📝 Step 11: Final Questions\n",
    "Please answer the following questions in the markdown cell below:\n",
    "\n",
    "1. **Model Comparison:** Which model had the best RMSE score? Why?\n",
    "\n",
    "   ✅ Best Model: The Stacked Model achieved the lowest RMSE of 3.33, making it the best among all models.\n",
    "\n",
    "   Why?\n",
    "     *   Combining the tuned Random Forest and tuned XGBoost made the model more capable of capturing non-linear relationships in the data.\n",
    "\n",
    "     *   VotingRegressor integrates multiple models and takes their average, reducing bias in individual models.\n",
    "\n",
    "    *  Using two strong models minimizes the impact of errors that may arise from any single model.\n",
    "\n",
    "\n",
    "2. **Hyperparameter Tuning:** How much did tuning improve the performance of Random Forest and XGBoost?\n",
    "  \n",
    "  ✅ Performance Improvement After Tuning:\n",
    "\n",
    "     * Random Forest:\n",
    "      \n",
    "         Before tuning: RMSE = 3.43\n",
    "         After tuning: RMSE improved by using 200 trees instead of 100, which enhanced accuracy.\n",
    "\n",
    "     *  XGBoost:\n",
    "\n",
    "       Before tuning: RMSE = 3.5\n",
    "       After tuning: RMSE did not improve significantly because the best-selected parameters were already close to the default ones.\n",
    "\n",
    "3. **Stacked Model:** Did the stacked model outperform individual models? Why or why not?\n",
    "       \n",
    "    ✅ Yes, the stacked model was the best.\n",
    "\n",
    "    Reason:\n",
    "\n",
    "          Combining Random Forest and XGBoost made predictions more stable and accurate.\n",
    "          Distributing errors between the two models reduced fluctuations, leading to more consistent performance.\n",
    "          Using Voting Regressor ensured that the final model made decisions based on the best-performing individual models.\n"
   ]
  },
  {
   "cell_type": "markdown",
   "metadata": {
    "id": "st4YePpUMNpY"
   },
   "source": [
    "4. **Feature Importance:** Which features were most important in predicting stock prices? Use the feature importance of XGBoost to analyze this.\n"
   ]
  },
  {
   "cell_type": "code",
   "execution_count": 27,
   "metadata": {
    "colab": {
     "base_uri": "https://localhost:8080/"
    },
    "id": "7rv8vy5fgJhc",
    "outputId": "b292c3a4-55f8-4712-8843-3cbe72b0cfac"
   },
   "outputs": [
    {
     "name": "stdout",
     "output_type": "stream",
     "text": [
      "            Feature  Importance\n",
      "1         Low Price    0.784682\n",
      "2        High Price    0.195494\n",
      "0     Opening Price    0.019496\n",
      "6             Month    0.000059\n",
      "5               Day    0.000059\n",
      "8           Weekday    0.000055\n",
      "3            Volume    0.000054\n",
      "4  Market Sentiment    0.000053\n",
      "7              Year    0.000048\n"
     ]
    }
   ],
   "source": [
    "importances = best_xgb.feature_importances_\n",
    "feature_importance_df = pd.DataFrame({'Feature': features, 'Importance': importances})\n",
    "feature_importance_df = feature_importance_df.sort_values(by='Importance', ascending=False)\n",
    "print(feature_importance_df)"
   ]
  },
  {
   "cell_type": "markdown",
   "metadata": {
    "id": "_g9SiUQSnubT"
   },
   "source": []
  },
  {
   "cell_type": "markdown",
   "metadata": {
    "id": "hAKejdFvnoh_"
   },
   "source": [
    "✅ Top Features:\n",
    "\n",
    "Low Price → 78.5% (Most important feature)\n",
    "\n",
    "High Price → 19.5%\n",
    "\n",
    "Opening Price → 1.95%\n",
    "\n",
    "🔎 Key Insights:\n",
    "\n",
    "Low Price is the most influential factor, indicating that closing prices tend to be close to the lowest price of the day.\n",
    "High Price also plays a significant role, showing that price movement between highs and lows is crucial for predictions.\n",
    "Other features (Month, Day, Weekday, Volume, Market Sentiment, and Year) had minimal impact, suggesting that short-term stock prices are primarily driven by daily price fluctuations rather than external factors like time or market sentiment.\n",
    "\n",
    "\n",
    "\n",
    "\n",
    "\n",
    "\n"
   ]
  },
  {
   "cell_type": "markdown",
   "metadata": {
    "id": "otPYtjXZonTj"
   },
   "source": [
    "5. **Real-World Application:** How can this approach be applied in real-world stock trading and investment decisions?\n"
   ]
  },
  {
   "cell_type": "markdown",
   "metadata": {
    "id": "AOdFVPZ7q1Rw"
   },
   "source": [
    "1️⃣ Analyzing trading strategies:\n",
    "\n",
    "في عالم التداول، يهتم المستثمرون بمعرفة التوجهات المستقبلية للسوق. يعني ذلك أنهم يريدون التنبؤ إذا كان السوق سيرتفع أو ينخفض في المستقبل القريب. هنا يأتي دور النماذج مثل النموذج المتكدس الذي يعتمد على البيانات التاريخية للتنبؤ بالاتجاهات. باستخدام هذا النموذج، يمكن للمستثمرين تحليل اتجاهات السوق مسبقًا وتحضير استراتيجيات بناءً على تلك التوقعات.\n",
    "\n",
    "2️⃣ Automated trading systems:\n",
    "\n",
    "أنظمة التداول الآلية هي برامج تتخذ قرارات تداول بناءً على المدخلات التي تتلقاها. بمعنى آخر، يمكن لروبوت التداول تنفيذ الصفقات تلقائيًا من خلال النماذج المُعتمدة. إذا تم تدريب النموذج بشكل صحيح على بيانات السوق، يمكنه القيام بالتداولات تلقائيًا، مما يوفر الوقت ويساعد على تجنب القرارات العاطفية التي قد تؤثر على أداء الإنسان.\n",
    "\n",
    "3️⃣ Risk management:\n",
    "\n",
    "في السوق المالي، هناك دائمًا درجة من القلق بشأن التقلبات. عندما يكون السوق غير مستقر، يكون من المهم اتخاذ قرارات حكيمة لتقليل المخاطر. النموذج يمكن أن يساعد في التنبؤ بالفترات التي من المرجح أن يشهد فيها السوق تقلبًا عاليًا. على سبيل المثال، إذا كانت التوقعات تشير إلى أن السوق قد يشهد تقلبات شديدة في فترة معينة، يمكن للمستثمر اتخاذ تدابير وقائية (مثل تقليل حجم الاستثمارات أو إيقاف التداول).\n",
    "\n",
    "4️⃣ Long-term market analysis:\n",
    "\n",
    "بالإضافة إلى التنبؤ بالاتجاهات على المدى القصير، يمكن تعديل النموذج ليأخذ بعين الاعتبار بيانات كبيرة واتجاهات اقتصادية طويلة الأمد. على سبيل المثال، يمكن إدخال بيانات عن الوضع الاقتصادي العالمي أو المحفزات الاقتصادية (مثل أسعار الفائدة أو النمو الاقتصادي) لتحسين التنبؤات على المدى الطويل.\n",
    "\n",
    "challenges and limitations:\n",
    "\n",
    "الأسواق المالية غير خطية بشدة: الأسواق المالية تتأثر بالعديد من العوامل المتغيرة، مثل السياسة، الاقتصاد، والتطورات المفاجئة. هذه العوامل قد تؤدي إلى تغيرات غير متوقعة في السوق، وهو أمر يصعب التنبؤ به بشكل دقيق.\n",
    "الأحداث المفاجئة: مثل الأزمات الاقتصادية أو الأخبار العاجلة، قد تؤدي إلى تغييرات غير متوقعة في السوق، وهو ما لا يمكن للنماذج الحالية التنبؤ به دائمًا.\n",
    "تحديث البيانات: بما أن السوق يتغير باستمرار، يجب تحديث النموذج بشكل دوري لتضمن دقته، خصوصًا عندما تأتي معلومات جديدة تؤثر على السوق.\n",
    "\n",
    "Generally:\n",
    "\n",
    "إذا تم استخدام النموذج بشكل صحيح، يمكنه أن يساعد في تحسين استراتيجيات التداول، إدارة المخاطر، وتنفيذ الصفقات تلقائيًا. لكن، من الضروري أن يكون هناك وعي بالتحديات والمخاطر التي قد تواجه النموذج بسبب الظروف غير المتوقعة في السوق."
   ]
  }
 ],
 "metadata": {
  "colab": {
   "provenance": []
  },
  "kernelspec": {
   "display_name": "Python 3 (ipykernel)",
   "language": "python",
   "name": "python3"
  },
  "language_info": {
   "codemirror_mode": {
    "name": "ipython",
    "version": 3
   },
   "file_extension": ".py",
   "mimetype": "text/x-python",
   "name": "python",
   "nbconvert_exporter": "python",
   "pygments_lexer": "ipython3",
   "version": "3.9.13"
  }
 },
 "nbformat": 4,
 "nbformat_minor": 1
}
